{
 "cells": [
  {
   "cell_type": "code",
   "execution_count": 6,
   "metadata": {},
   "outputs": [
    {
     "name": "stdout",
     "output_type": "stream",
     "text": [
      "keywords:  [('software developer intern', 9.0), ('full stack developer', 9.0), ('practicing agile/scrum methodology', 9.0), ('convert traditional media', 9.0), ('aol managing partners', 9.0), ('visually appealing format', 8.5), ('maximize team potential', 8.5), ('web developer intern', 8.5), ('google sv data', 8.0), ('thirty cuny students', 8.0), ('google sv', 5.0), ('working team', 4.5), ('web application', 4.5), ('complex format', 4.5), ('integrated customer', 4.0), ('research assistant', 4.0), ('april 2017 selected', 4.0), ('present aid', 4.0), ('frontend routing', 4.0), ('completely revamped', 4.0), ('facing solutions', 4.0), ('backend engine', 4.0), ('august 2017 built', 4.0), ('design docs', 4.0), ('worked closely', 4.0), ('january 2017 built', 3.5), ('students', 2.0), ('january 2017', 1.5), ('bitnews', 1.0), ('javascript', 1.0), ('contributed', 1.0), ('focus', 1.0), ('cunycodes', 1.0), ('march 2016', 1.0), ('clients', 1.0), ('webserves', 1.0), ('order', 1.0), ('engineered', 1.0), ('websites', 1.0), ('bootstrap', 1.0), ('tested', 1.0), ('cohort', 1.0), ('implemented', 1.0), ('management', 1.0), ('september 2017', 1.0), ('developed', 1.0), ('ground', 1.0), ('june 2017', 1.0), ('algorithm', 1.0), ('pitched', 1.0), ('advantage', 1.0)]\n"
     ]
    }
   ],
   "source": [
    "import rake\n",
    " \n",
    "import operator\n",
    " \n",
    "rake_object = rake.Rake(\"SmartStoplist.txt\", 5, 3, 1)\n",
    "\n",
    "text = \"RELEVANT EXPERIENCE CUNY Hunter College Computer Vision Lab: Research Assistant\tSeptember 2017 – Present Aid in novel computer vision research seeking to take advantage of missing LIDAR data points within Google SV.  Develop highly optimized algorithm to convert open source street data into the complex format of Google SV data. AOL: Software Developer Intern\t\tJune 2017 – August 2017 Built a web application from the ground up, BitNews, which was pitched to AOL managing partners. Implemented, tested, and integrated customer-facing solutions into an AOP UI lab environment. Engineered the novel algorithm used in BitNews to convert traditional media into more visually appealing format. Contributed as a Full Stack Developer with a focus on the backend engine and frontend routing for the app. CUNYCodes: Full Stack Developer\tJanuary 2017 – April 2017 Selected for a ten-week intensive portfolio development program, in a cohort of thirty CUNY students. Developed a fully featured Android application while practicing Agile/Scrum methodology. Conducted daily Scrum meetings for a working team of five students in order to maximize team potential. WebServes: Web Developer Intern\tMarch 2016 – January 2017 Built new websites from the ground up and completely revamped old ones using JavaScript and Bootstrap. Worked closely with clients and management in order to develop websites custom tailored to design docs.\"\n",
    "\n",
    "keywords = rake_object.run(text)\n",
    "\n",
    "print(\"keywords: \", keywords)"
   ]
  }
 ],
 "metadata": {
  "kernelspec": {
   "display_name": "Python 3",
   "language": "python",
   "name": "python3"
  },
  "language_info": {
   "codemirror_mode": {
    "name": "ipython",
    "version": 3
   },
   "file_extension": ".py",
   "mimetype": "text/x-python",
   "name": "python",
   "nbconvert_exporter": "python",
   "pygments_lexer": "ipython3",
   "version": "3.5.4"
  }
 },
 "nbformat": 4,
 "nbformat_minor": 2
}
